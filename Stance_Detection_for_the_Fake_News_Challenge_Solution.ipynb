{
  "nbformat": 4,
  "nbformat_minor": 0,
  "metadata": {
    "colab": {
      "name": "Stance Detection for the Fake News Challenge_Solution.ipynb",
      "provenance": [],
      "collapsed_sections": []
    },
    "kernelspec": {
      "name": "python3",
      "display_name": "Python 3"
    },
    "accelerator": "GPU"
  },
  "cells": [
    {
      "cell_type": "markdown",
      "metadata": {
        "id": "QI9jhXKPCFcJ",
        "colab_type": "text"
      },
      "source": [
        "# Stance Detection for the Fake News Challenge\n",
        "\n",
        "## Identifying Textual Relationships with Deep Neural Nets"
      ]
    },
    {
      "cell_type": "markdown",
      "metadata": {
        "id": "vSNgdEMpenpE",
        "colab_type": "text"
      },
      "source": [
        "## Step1: Load the given dataset\n",
        "\n",
        "1. Mount the google drive\n",
        "\n",
        "2. Import Glove embeddings\n",
        "\n",
        "3. Import the test and train datasets"
      ]
    },
    {
      "cell_type": "code",
      "metadata": {
        "id": "ItcycPfrR9D9",
        "colab_type": "code",
        "outputId": "f1eb5c13-aae5-4e4d-d234-c928254af498",
        "colab": {
          "base_uri": "https://localhost:8080/",
          "height": 34
        }
      },
      "source": [
        "from numpy import asarray\n",
        "from numpy import zeros\n",
        "from keras.preprocessing.text import Tokenizer\n",
        "from keras.preprocessing.sequence import pad_sequences"
      ],
      "execution_count": 0,
      "outputs": [
        {
          "output_type": "stream",
          "text": [
            "Using TensorFlow backend.\n"
          ],
          "name": "stderr"
        }
      ]
    },
    {
      "cell_type": "markdown",
      "metadata": {
        "id": "aPOZRohMiSpQ",
        "colab_type": "text"
      },
      "source": [
        "### Mount the google drive to access required project files"
      ]
    },
    {
      "cell_type": "code",
      "metadata": {
        "id": "7AS39z1XgFpT",
        "colab_type": "code",
        "colab": {}
      },
      "source": [
        "from google.colab import drive"
      ],
      "execution_count": 0,
      "outputs": []
    },
    {
      "cell_type": "code",
      "metadata": {
        "id": "S_7yCFdzgFsH",
        "colab_type": "code",
        "outputId": "27c57749-a25d-40d5-ea33-e25f8d9f0a81",
        "colab": {
          "base_uri": "https://localhost:8080/",
          "height": 122
        }
      },
      "source": [
        "drive.mount('/content/drive/')"
      ],
      "execution_count": 0,
      "outputs": [
        {
          "output_type": "stream",
          "text": [
            "Go to this URL in a browser: https://accounts.google.com/o/oauth2/auth?client_id=947318989803-6bn6qk8qdgf4n4g3pfee6491hc0brc4i.apps.googleusercontent.com&redirect_uri=urn%3Aietf%3Awg%3Aoauth%3A2.0%3Aoob&scope=email%20https%3A%2F%2Fwww.googleapis.com%2Fauth%2Fdocs.test%20https%3A%2F%2Fwww.googleapis.com%2Fauth%2Fdrive%20https%3A%2F%2Fwww.googleapis.com%2Fauth%2Fdrive.photos.readonly%20https%3A%2F%2Fwww.googleapis.com%2Fauth%2Fpeopleapi.readonly&response_type=code\n",
            "\n",
            "Enter your authorization code:\n",
            "··········\n",
            "Mounted at /content/drive/\n"
          ],
          "name": "stdout"
        }
      ]
    },
    {
      "cell_type": "markdown",
      "metadata": {
        "id": "bhZdJ4zpwWzN",
        "colab_type": "text"
      },
      "source": [
        "#### Path for Project files on google drive\n",
        "\n",
        "**Note:** You need to change this path according where you have kept the files in google drive. "
      ]
    },
    {
      "cell_type": "code",
      "metadata": {
        "id": "Aol97RUogFuS",
        "colab_type": "code",
        "colab": {}
      },
      "source": [
        "project_path = \"/content/drive/My Drive/Datasets/Fake News Challenge/\""
      ],
      "execution_count": 0,
      "outputs": []
    },
    {
      "cell_type": "markdown",
      "metadata": {
        "id": "2ly0VxAnwJ2f",
        "colab_type": "text"
      },
      "source": [
        "### Loading the Glove Embeddings"
      ]
    },
    {
      "cell_type": "code",
      "metadata": {
        "id": "xmsPn6PF-cgL",
        "colab_type": "code",
        "colab": {}
      },
      "source": [
        "from zipfile import ZipFile\n",
        "with ZipFile(project_path+'glove.6B.zip', 'r') as z:\n",
        "  z.extractall()"
      ],
      "execution_count": 0,
      "outputs": []
    },
    {
      "cell_type": "markdown",
      "metadata": {
        "id": "TjLJEQ_PwcGi",
        "colab_type": "text"
      },
      "source": [
        "### Load the dataset\n",
        "\n",
        "1. Using [read_csv()](https://pandas.pydata.org/pandas-docs/stable/generated/pandas.read_csv.html) in pandas load the given train datasets files **`train_bodies.csv`** and **`train_stances.csv`**\n",
        "\n",
        "2. Using [merge](https://pandas.pydata.org/pandas-docs/stable/generated/pandas.DataFrame.merge.html) command in pandas merge the two datasets based on the Body ID. \n",
        "\n",
        "Note: Save the final merged dataset in a dataframe with name **`dataset`**."
      ]
    },
    {
      "cell_type": "code",
      "metadata": {
        "id": "7gXO1WZ-gFwm",
        "colab_type": "code",
        "colab": {}
      },
      "source": [
        "import pandas as pd\n",
        "\n",
        "train_bodies = pd.read_csv(project_path+'train_bodies.csv')\n",
        "train_stances = pd.read_csv(project_path+'train_stances.csv')"
      ],
      "execution_count": 0,
      "outputs": []
    },
    {
      "cell_type": "code",
      "metadata": {
        "id": "kosAWskdOOT8",
        "colab_type": "code",
        "colab": {}
      },
      "source": [
        "dataset = pd.merge(train_bodies[['Body ID', 'articleBody']],train_stances[['Body ID', 'Headline', 'Stance']], left_on='Body ID', right_on='Body ID', how='inner')"
      ],
      "execution_count": 0,
      "outputs": []
    },
    {
      "cell_type": "markdown",
      "metadata": {
        "id": "g4ycQbBCg20S",
        "colab_type": "text"
      },
      "source": [
        "\n",
        "<h2> Check1:</h2>\n",
        "  \n",
        "<h3> You should see the below output if you run `dataset.head()` command as given below </h3>"
      ]
    },
    {
      "cell_type": "code",
      "metadata": {
        "id": "IUtF7iOmj11k",
        "colab_type": "code",
        "outputId": "c77b0ada-2613-47d0-e10d-7509bc81e2f0",
        "colab": {
          "base_uri": "https://localhost:8080/",
          "height": 204
        }
      },
      "source": [
        "dataset.head()"
      ],
      "execution_count": 0,
      "outputs": [
        {
          "output_type": "execute_result",
          "data": {
            "text/html": [
              "<div>\n",
              "<style scoped>\n",
              "    .dataframe tbody tr th:only-of-type {\n",
              "        vertical-align: middle;\n",
              "    }\n",
              "\n",
              "    .dataframe tbody tr th {\n",
              "        vertical-align: top;\n",
              "    }\n",
              "\n",
              "    .dataframe thead th {\n",
              "        text-align: right;\n",
              "    }\n",
              "</style>\n",
              "<table border=\"1\" class=\"dataframe\">\n",
              "  <thead>\n",
              "    <tr style=\"text-align: right;\">\n",
              "      <th></th>\n",
              "      <th>Body ID</th>\n",
              "      <th>articleBody</th>\n",
              "      <th>Headline</th>\n",
              "      <th>Stance</th>\n",
              "    </tr>\n",
              "  </thead>\n",
              "  <tbody>\n",
              "    <tr>\n",
              "      <th>0</th>\n",
              "      <td>0</td>\n",
              "      <td>A small meteorite crashed into a wooded area i...</td>\n",
              "      <td>Soldier shot, Parliament locked down after gun...</td>\n",
              "      <td>unrelated</td>\n",
              "    </tr>\n",
              "    <tr>\n",
              "      <th>1</th>\n",
              "      <td>0</td>\n",
              "      <td>A small meteorite crashed into a wooded area i...</td>\n",
              "      <td>Tourist dubbed ‘Spider Man’ after spider burro...</td>\n",
              "      <td>unrelated</td>\n",
              "    </tr>\n",
              "    <tr>\n",
              "      <th>2</th>\n",
              "      <td>0</td>\n",
              "      <td>A small meteorite crashed into a wooded area i...</td>\n",
              "      <td>Luke Somers 'killed in failed rescue attempt i...</td>\n",
              "      <td>unrelated</td>\n",
              "    </tr>\n",
              "    <tr>\n",
              "      <th>3</th>\n",
              "      <td>0</td>\n",
              "      <td>A small meteorite crashed into a wooded area i...</td>\n",
              "      <td>BREAKING: Soldier shot at War Memorial in Ottawa</td>\n",
              "      <td>unrelated</td>\n",
              "    </tr>\n",
              "    <tr>\n",
              "      <th>4</th>\n",
              "      <td>0</td>\n",
              "      <td>A small meteorite crashed into a wooded area i...</td>\n",
              "      <td>Giant 8ft 9in catfish weighing 19 stone caught...</td>\n",
              "      <td>unrelated</td>\n",
              "    </tr>\n",
              "  </tbody>\n",
              "</table>\n",
              "</div>"
            ],
            "text/plain": [
              "   Body ID  ...     Stance\n",
              "0        0  ...  unrelated\n",
              "1        0  ...  unrelated\n",
              "2        0  ...  unrelated\n",
              "3        0  ...  unrelated\n",
              "4        0  ...  unrelated\n",
              "\n",
              "[5 rows x 4 columns]"
            ]
          },
          "metadata": {
            "tags": []
          },
          "execution_count": 8
        }
      ]
    },
    {
      "cell_type": "markdown",
      "metadata": {
        "id": "tjzVz2ifijmj",
        "colab_type": "text"
      },
      "source": [
        "## Step2: Data Pre-processing and setting some hyper parameters needed for model\n",
        "\n",
        "\n",
        "#### Run the code given below to set the required parameters.\n",
        "\n",
        "1. `MAX_SENTS` = Maximum no.of sentences to consider in an article.\n",
        "\n",
        "2. `MAX_SENT_LENGTH` = Maximum no.of words to consider in a sentence.\n",
        "\n",
        "3. `MAX_NB_WORDS` = Maximum no.of words in the total vocabualry.\n",
        "\n",
        "4. `MAX_SENTS_HEADING` = Maximum no.of sentences to consider in a heading of an article."
      ]
    },
    {
      "cell_type": "code",
      "metadata": {
        "id": "KDXSdpvqjuqw",
        "colab_type": "code",
        "colab": {}
      },
      "source": [
        "MAX_NB_WORDS = 20000\n",
        "MAX_SENTS = 20\n",
        "MAX_SENTS_HEADING = 1\n",
        "MAX_SENT_LENGTH = 20\n",
        "VALIDATION_SPLIT = 0.2"
      ],
      "execution_count": 0,
      "outputs": []
    },
    {
      "cell_type": "markdown",
      "metadata": {
        "id": "zwE7CPHdiDT-",
        "colab_type": "text"
      },
      "source": [
        "### Download the `Punkt` from nltk using the commands given below. This is for sentence tokenization.\n",
        "\n",
        "For more info on how to use it, read [this](https://stackoverflow.com/questions/35275001/use-of-punktsentencetokenizer-in-nltk).\n",
        "\n"
      ]
    },
    {
      "cell_type": "code",
      "metadata": {
        "id": "lsiKmyJUZ-hU",
        "colab_type": "code",
        "outputId": "5be94418-4bb5-4786-d8dc-2007f6e67618",
        "colab": {
          "base_uri": "https://localhost:8080/",
          "height": 68
        }
      },
      "source": [
        "import nltk\n",
        "nltk.download('punkt')"
      ],
      "execution_count": 0,
      "outputs": [
        {
          "output_type": "stream",
          "text": [
            "[nltk_data] Downloading package punkt to /root/nltk_data...\n",
            "[nltk_data]   Unzipping tokenizers/punkt.zip.\n"
          ],
          "name": "stdout"
        },
        {
          "output_type": "execute_result",
          "data": {
            "text/plain": [
              "True"
            ]
          },
          "metadata": {
            "tags": []
          },
          "execution_count": 10
        }
      ]
    },
    {
      "cell_type": "markdown",
      "metadata": {
        "id": "Gqwm_GbwwnhX",
        "colab_type": "text"
      },
      "source": [
        "### Tokenizing the text and loading the pre-trained Glove word embeddings for each token"
      ]
    },
    {
      "cell_type": "markdown",
      "metadata": {
        "id": "WfZLR24mm32k",
        "colab_type": "text"
      },
      "source": [
        "Keras provides [Tokenizer API](https://keras.io/preprocessing/text/) for preparing text. Read it before going any further."
      ]
    },
    {
      "cell_type": "markdown",
      "metadata": {
        "id": "fLSn9S-5oG4Z",
        "colab_type": "text"
      },
      "source": [
        "#### Import the Tokenizer from keras preprocessing text"
      ]
    },
    {
      "cell_type": "code",
      "metadata": {
        "id": "S-VUgh2yoMlR",
        "colab_type": "code",
        "colab": {}
      },
      "source": [
        "from keras.preprocessing.text import Tokenizer"
      ],
      "execution_count": 0,
      "outputs": []
    },
    {
      "cell_type": "markdown",
      "metadata": {
        "id": "eml0Lge4oOuh",
        "colab_type": "text"
      },
      "source": [
        "#### Initialize the Tokenizer class with maximum vocabulary count as `MAX_NB_WORDS` initialized at the start of step2. "
      ]
    },
    {
      "cell_type": "code",
      "metadata": {
        "id": "Qm85qirPofc2",
        "colab_type": "code",
        "colab": {}
      },
      "source": [
        "t = Tokenizer(num_words=MAX_NB_WORDS,filters= '!\"#$%&()*+,-./:;<=>?@[\\]^_`{|}\\n“~')"
      ],
      "execution_count": 0,
      "outputs": []
    },
    {
      "cell_type": "markdown",
      "metadata": {
        "id": "HBe1KuXDosJ7",
        "colab_type": "text"
      },
      "source": [
        "#### Now, using fit_on_texts() from Tokenizer class, lets encode the data \n",
        "\n",
        "Note: We need to fit articleBody and Headline also to cover all the words."
      ]
    },
    {
      "cell_type": "code",
      "metadata": {
        "id": "Q5rk-UyBlmyA",
        "colab_type": "code",
        "colab": {}
      },
      "source": [
        "t.fit_on_texts(dataset['articleBody'])\n",
        "t.fit_on_texts(dataset['Headline'])"
      ],
      "execution_count": 0,
      "outputs": []
    },
    {
      "cell_type": "markdown",
      "metadata": {
        "id": "omptHX-JpBsN",
        "colab_type": "text"
      },
      "source": [
        "#### fit_on_texts() gives the following attributes in the output as given [here](https://faroit.github.io/keras-docs/1.2.2/preprocessing/text/).\n",
        "\n",
        "* **word_counts:** dictionary mapping words (str) to the number of times they appeared on during fit. Only set after fit_on_texts was called.\n",
        "\n",
        "* **word_docs:** dictionary mapping words (str) to the number of documents/texts they appeared on during fit. Only set after fit_on_texts was called.\n",
        "\n",
        "* **word_index:** dictionary mapping words (str) to their rank/index (int). Only set after fit_on_texts was called.\n",
        "\n",
        "* **document_count:** int. Number of documents (texts/sequences) the tokenizer was trained on. Only set after fit_on_texts or fit_on_sequences was called.\n",
        "\n"
      ]
    },
    {
      "cell_type": "code",
      "metadata": {
        "id": "xvih9A49rGo4",
        "colab_type": "code",
        "outputId": "199fe69b-6dda-42bd-b656-e9d76f0c8e8d",
        "colab": {
          "base_uri": "https://localhost:8080/",
          "height": 34
        }
      },
      "source": [
        "vocab_size = len(t.word_index) + 1\n",
        "print(vocab_size)"
      ],
      "execution_count": 0,
      "outputs": [
        {
          "output_type": "stream",
          "text": [
            "27062\n"
          ],
          "name": "stdout"
        }
      ]
    },
    {
      "cell_type": "markdown",
      "metadata": {
        "id": "SHnsT2sTtFAA",
        "colab_type": "text"
      },
      "source": [
        "### Now, tokenize the sentences using nltk sent_tokenize() and encode the senteces with the ids we got form the above `t.word_index`\n",
        "\n",
        "Initialise 2 lists with names `texts` and `articles`.\n",
        "\n",
        "```\n",
        "texts = [] to store text of article as it is.\n",
        "\n",
        "articles = [] split the above text into a list of sentences.\n",
        "```"
      ]
    },
    {
      "cell_type": "code",
      "metadata": {
        "id": "ctEu-d4c4EZs",
        "colab_type": "code",
        "colab": {}
      },
      "source": [
        "from nltk import tokenize\n",
        "\n",
        "texts = [] ## body\n",
        "articles=[] ## body splitted into senteces and stored as a list of lists\n",
        "\n",
        "## split into sentences\n",
        "for idx in range(dataset['articleBody'].shape[0]):\n",
        "    text = dataset['articleBody'][idx]\n",
        "    texts.append(text)\n",
        "    sentences = tokenize.sent_tokenize(text)\n",
        "    articles.append(sentences)"
      ],
      "execution_count": 0,
      "outputs": []
    },
    {
      "cell_type": "markdown",
      "metadata": {
        "id": "koTVJjoO6P78",
        "colab_type": "text"
      },
      "source": [
        "## Check 2:\n",
        "\n",
        "first element of texts and articles should be as given below. "
      ]
    },
    {
      "cell_type": "code",
      "metadata": {
        "id": "3mWBW99p5UW9",
        "colab_type": "code",
        "outputId": "f55bf92e-599e-4832-fc4a-f070ecd387cf",
        "colab": {
          "base_uri": "https://localhost:8080/",
          "height": 54
        }
      },
      "source": [
        "texts[0]"
      ],
      "execution_count": 0,
      "outputs": [
        {
          "output_type": "execute_result",
          "data": {
            "text/plain": [
              "'A small meteorite crashed into a wooded area in Nicaragua\\'s capital of Managua overnight, the government said Sunday. Residents reported hearing a mysterious boom that left a 16-foot deep crater near the city\\'s airport, the Associated Press reports. \\n\\nGovernment spokeswoman Rosario Murillo said a committee formed by the government to study the event determined it was a \"relatively small\" meteorite that \"appears to have come off an asteroid that was passing close to Earth.\" House-sized asteroid 2014 RC, which measured 60 feet in diameter, skimmed the Earth this weekend, ABC News reports. \\nMurillo said Nicaragua will ask international experts to help local scientists in understanding what happened.\\n\\nThe crater left by the meteorite had a radius of 39 feet and a depth of 16 feet,  said Humberto Saballos, a volcanologist with the Nicaraguan Institute of Territorial Studies who was on the committee. He said it is still not clear if the meteorite disintegrated or was buried.\\n\\nHumberto Garcia, of the Astronomy Center at the National Autonomous University of Nicaragua, said the meteorite could be related to an asteroid that was forecast to pass by the planet Saturday night.\\n\\n\"We have to study it more because it could be ice or rock,\" he said.\\n\\nWilfried Strauch, an adviser to the Institute of Territorial Studies, said it was \"very strange that no one reported a streak of light. We have to ask if anyone has a photo or something.\"\\n\\nLocal residents reported hearing a loud boom Saturday night, but said they didn\\'t see anything strange in the sky.\\n\\n\"I was sitting on my porch and I saw nothing, then all of a sudden I heard a large blast. We thought it was a bomb because we felt an expansive wave,\" Jorge Santamaria told The Associated Press.\\n\\nThe site of the crater is near Managua\\'s international airport and an air force base. Only journalists from state media were allowed to visit it.'"
            ]
          },
          "metadata": {
            "tags": []
          },
          "execution_count": 16
        }
      ]
    },
    {
      "cell_type": "code",
      "metadata": {
        "id": "WtIjO3ht5EKA",
        "colab_type": "code",
        "outputId": "bce69cf1-a55e-469c-b93a-ee6b5e664c3c",
        "colab": {
          "base_uri": "https://localhost:8080/",
          "height": 309
        }
      },
      "source": [
        "articles[0]"
      ],
      "execution_count": 0,
      "outputs": [
        {
          "output_type": "execute_result",
          "data": {
            "text/plain": [
              "[\"A small meteorite crashed into a wooded area in Nicaragua's capital of Managua overnight, the government said Sunday.\",\n",
              " \"Residents reported hearing a mysterious boom that left a 16-foot deep crater near the city's airport, the Associated Press reports.\",\n",
              " 'Government spokeswoman Rosario Murillo said a committee formed by the government to study the event determined it was a \"relatively small\" meteorite that \"appears to have come off an asteroid that was passing close to Earth.\"',\n",
              " 'House-sized asteroid 2014 RC, which measured 60 feet in diameter, skimmed the Earth this weekend, ABC News reports.',\n",
              " 'Murillo said Nicaragua will ask international experts to help local scientists in understanding what happened.',\n",
              " 'The crater left by the meteorite had a radius of 39 feet and a depth of 16 feet,  said Humberto Saballos, a volcanologist with the Nicaraguan Institute of Territorial Studies who was on the committee.',\n",
              " 'He said it is still not clear if the meteorite disintegrated or was buried.',\n",
              " 'Humberto Garcia, of the Astronomy Center at the National Autonomous University of Nicaragua, said the meteorite could be related to an asteroid that was forecast to pass by the planet Saturday night.',\n",
              " '\"We have to study it more because it could be ice or rock,\" he said.',\n",
              " 'Wilfried Strauch, an adviser to the Institute of Territorial Studies, said it was \"very strange that no one reported a streak of light.',\n",
              " 'We have to ask if anyone has a photo or something.\"',\n",
              " \"Local residents reported hearing a loud boom Saturday night, but said they didn't see anything strange in the sky.\",\n",
              " '\"I was sitting on my porch and I saw nothing, then all of a sudden I heard a large blast.',\n",
              " 'We thought it was a bomb because we felt an expansive wave,\" Jorge Santamaria told The Associated Press.',\n",
              " \"The site of the crater is near Managua's international airport and an air force base.\",\n",
              " 'Only journalists from state media were allowed to visit it.']"
            ]
          },
          "metadata": {
            "tags": []
          },
          "execution_count": 17
        }
      ]
    },
    {
      "cell_type": "markdown",
      "metadata": {
        "id": "fpuRIA7cCfcY",
        "colab_type": "text"
      },
      "source": [
        "#### Now iterate through each article and each sentence to encode the words into ids using t.word_index\n",
        "\n",
        "Here, to get words from sentence you can use `text_to_word_sequence` from keras preprocessing text.\n",
        "\n",
        "1. Import text_to_word_sequence\n",
        "\n",
        "2. Initialize a variable of shape (no.of articles, MAX_SENTS, MAX_SENT_LENGTH) with name `data` with zeros first (you can use numpy [np.zeros](https://docs.scipy.org/doc/numpy/reference/generated/numpy.zeros.html) to initialize with all zeros)and then update it while iterating through the words and sentences in each article."
      ]
    },
    {
      "cell_type": "code",
      "metadata": {
        "id": "YVyClBULCqWj",
        "colab_type": "code",
        "colab": {}
      },
      "source": [
        "from keras.preprocessing.text import text_to_word_sequence\n",
        "import numpy as np\n",
        "\n",
        "## for article body\n",
        "data = np.zeros((len(texts), MAX_SENTS, MAX_SENT_LENGTH), dtype='int32')\n",
        "## word index encoding\n",
        "for i, sentences in enumerate(articles):\n",
        "    for j, sent in enumerate(sentences):\n",
        "        if j < MAX_SENTS:\n",
        "            wordTokens = text_to_word_sequence(sent)\n",
        "            k = 0\n",
        "            for _, word in enumerate(wordTokens):\n",
        "                try:\n",
        "                    if k < MAX_SENT_LENGTH and t.word_index[word] < MAX_NB_WORDS:\n",
        "                      data[i, j, k] = t.word_index[word]\n",
        "                      k = k + 1\n",
        "                except:\n",
        "#                       print(word)\n",
        "                        pass"
      ],
      "execution_count": 0,
      "outputs": []
    },
    {
      "cell_type": "markdown",
      "metadata": {
        "id": "bFdmiDYcE144",
        "colab_type": "text"
      },
      "source": [
        "### Check 3:\n",
        "\n",
        "Accessing first element in data should give something like given below."
      ]
    },
    {
      "cell_type": "code",
      "metadata": {
        "id": "TsFWW5C2Djog",
        "colab_type": "code",
        "outputId": "7242237f-eaad-4048-bec2-1b37ab7c47e5",
        "colab": {
          "base_uri": "https://localhost:8080/",
          "height": 1000
        }
      },
      "source": [
        "data[0, :, :]"
      ],
      "execution_count": 0,
      "outputs": [
        {
          "output_type": "execute_result",
          "data": {
            "text/plain": [
              "array([[    3,   479,   425,  7159,    81,     3,  3721,   334,     5,\n",
              "         3871,   352,     4,  1430,  2946,     1,    89,    12,   464,\n",
              "            0,     0],\n",
              "       [  758,    96,  1046,     3,  2676,  1750,     7,   190,     3,\n",
              "         1219,  1056,  1967,   701,   160,     1,  3020,   449,     1,\n",
              "          553,   235],\n",
              "       [   89,  1067,  4095,  2344,    12,     3,  1092,  3297,    19,\n",
              "            1,    89,     2,  1789,     1,   520,  2008,    15,     9,\n",
              "            3,  2912],\n",
              "       [  186,  3629,   973,   200,  2551,    44,  6727,  1719,  1253,\n",
              "            5, 13097, 17549,     1,   775,    30,   743,  3975,    67,\n",
              "           86,     0],\n",
              "       [ 2344,    12,  1556,    38,  1094,   354,   774,     2,   361,\n",
              "          262,  1766,     5,  4432,    69,   493,     0,     0,     0,\n",
              "            0,     0],\n",
              "       [    1,   701,   190,    19,     1,   425,    32,     3,  7359,\n",
              "            4,  2153,  1253,     6,     3,  5232,     4,  1219,  1253,\n",
              "           12,  3354],\n",
              "       [   13,    12,    15,     8,   148,    25,   541,    63,     1,\n",
              "          425,  3715,    41,     9,  1847,     0,     0,     0,     0,\n",
              "            0,     0],\n",
              "       [ 3354,  5688,     4,     1,  5830,   614,    21,     1,   307,\n",
              "         3155,   791,     4,  1556,    12,     1,   425,    70,    23,\n",
              "          821,     2],\n",
              "       [   35,    17,     2,  1789,    15,    53,   120,    15,    70,\n",
              "           23,  4888,    41,  1896,    13,    12,     0,     0,     0,\n",
              "            0,     0],\n",
              "       [ 4707,  3327,    24,  3956,     2,     1,  1316,     4,  3059,\n",
              "         1655,    12,    15,     9,   192,  1420,     7,    55,    40,\n",
              "           96,     3],\n",
              "       [   35,    17,     2,  1094,    63,   502,    20,     3,   252,\n",
              "           41,   263,     0,     0,     0,     0,     0,     0,     0,\n",
              "            0,     0],\n",
              "       [  262,   758,    96,  1046,     3,  1802,  1750,   531,   276,\n",
              "           29,    12,    33,   702,   164,   832,  1420,     5,     1,\n",
              "         2081,     0],\n",
              "       [   34,     9,  2059,    10,   115,  5781,     6,    34,   569,\n",
              "          654,   104,    58,     4,     3,  2408,    34,   239,     3,\n",
              "          509,  1907],\n",
              "       [   35,   342,    15,     9,     3,  2082,   120,    35,   883,\n",
              "           24,  4433,  2578,  4296,  4889,    56,     1,   553,   235,\n",
              "            0,     0],\n",
              "       [    1,   256,     4,     1,   701,     8,   160,  3946,   354,\n",
              "          449,     6,    24,   155,   465,  1923,     0,     0,     0,\n",
              "            0,     0],\n",
              "       [  125,   918,    22,    47,   100,    37,  1830,     2,  1214,\n",
              "           15,     0,     0,     0,     0,     0,     0,     0,     0,\n",
              "            0,     0],\n",
              "       [    0,     0,     0,     0,     0,     0,     0,     0,     0,\n",
              "            0,     0,     0,     0,     0,     0,     0,     0,     0,\n",
              "            0,     0],\n",
              "       [    0,     0,     0,     0,     0,     0,     0,     0,     0,\n",
              "            0,     0,     0,     0,     0,     0,     0,     0,     0,\n",
              "            0,     0],\n",
              "       [    0,     0,     0,     0,     0,     0,     0,     0,     0,\n",
              "            0,     0,     0,     0,     0,     0,     0,     0,     0,\n",
              "            0,     0],\n",
              "       [    0,     0,     0,     0,     0,     0,     0,     0,     0,\n",
              "            0,     0,     0,     0,     0,     0,     0,     0,     0,\n",
              "            0,     0]], dtype=int32)"
            ]
          },
          "metadata": {
            "tags": []
          },
          "execution_count": 19
        }
      ]
    },
    {
      "cell_type": "code",
      "metadata": {
        "id": "diqkYGujuwAz",
        "colab_type": "code",
        "outputId": "b4de8aed-0fa5-46ac-e593-30eb07c7d797",
        "colab": {
          "base_uri": "https://localhost:8080/",
          "height": 34
        }
      },
      "source": [
        "data[0, :, :].reshape(1, data.shape[1], data.shape[2]).shape"
      ],
      "execution_count": 0,
      "outputs": [
        {
          "output_type": "execute_result",
          "data": {
            "text/plain": [
              "(1, 20, 20)"
            ]
          },
          "metadata": {
            "tags": []
          },
          "execution_count": 23
        }
      ]
    },
    {
      "cell_type": "code",
      "metadata": {
        "id": "xScW1gs6uwFb",
        "colab_type": "code",
        "colab": {}
      },
      "source": [
        ""
      ],
      "execution_count": 0,
      "outputs": []
    },
    {
      "cell_type": "code",
      "metadata": {
        "id": "wg7pduejuwDx",
        "colab_type": "code",
        "colab": {}
      },
      "source": [
        ""
      ],
      "execution_count": 0,
      "outputs": []
    },
    {
      "cell_type": "markdown",
      "metadata": {
        "id": "hTG6JySHehkT",
        "colab_type": "text"
      },
      "source": [
        "### Repeat the same process for the `Headings` as well. Use variables with names `texts_heading` and `articles_heading` accordingly."
      ]
    },
    {
      "cell_type": "code",
      "metadata": {
        "id": "_CliiIhLemJV",
        "colab_type": "code",
        "colab": {}
      },
      "source": [
        "texts_heading = [] ## body\n",
        "articles_heading = [] ## body splitted into senteces and stored as a list of lists\n",
        "\n",
        "## split into sentences\n",
        "for idx in range(dataset['Headline'].shape[0]):\n",
        "    text = dataset['Headline'][idx]\n",
        "    texts_heading.append(text)\n",
        "    sentences = tokenize.sent_tokenize(text)\n",
        "    articles_heading.append(sentences)\n",
        "\n",
        "## for article headings\n",
        "data_heading = np.zeros((len(texts), MAX_SENTS_HEADING, MAX_SENT_LENGTH), dtype='int32')\n",
        "## word index encoding\n",
        "for i, sentences in enumerate(articles_heading):\n",
        "    for j, sent in enumerate(sentences):\n",
        "        if j < MAX_SENTS_HEADING:\n",
        "            wordTokens = text_to_word_sequence(sent)\n",
        "            k = 0\n",
        "            for _, word in enumerate(wordTokens):\n",
        "                try:\n",
        "                    if k < MAX_SENT_LENGTH and t.word_index[word] < MAX_NB_WORDS:\n",
        "                        data_heading[i, j, k] = t.word_index[word]\n",
        "                        k = k + 1\n",
        "                except:\n",
        "                    pass"
      ],
      "execution_count": 0,
      "outputs": []
    },
    {
      "cell_type": "markdown",
      "metadata": {
        "id": "iaH0Ey1qe_Co",
        "colab_type": "text"
      },
      "source": [
        "### Now the features are ready, lets make the labels ready for the model to process.\n",
        "\n",
        "### Convert labels into one-hot vectors\n",
        "\n",
        "You can use [get_dummies](https://pandas.pydata.org/pandas-docs/stable/generated/pandas.get_dummies.html) in pandas to create one-hot vectors."
      ]
    },
    {
      "cell_type": "code",
      "metadata": {
        "id": "Zq-VcgM8fat1",
        "colab_type": "code",
        "colab": {}
      },
      "source": [
        "## one-hot vectors for labels                  \n",
        "labels = dataset['Stance']\n",
        "targets = pd.Series(labels)\n",
        "one_hot = pd.get_dummies(targets, sparse = True)\n",
        "one_hot_labels = np.asarray(one_hot)\n",
        "labels = one_hot_labels"
      ],
      "execution_count": 0,
      "outputs": []
    },
    {
      "cell_type": "markdown",
      "metadata": {
        "id": "40mA8FI2fcxZ",
        "colab_type": "text"
      },
      "source": [
        "### Check 4:\n",
        "\n",
        "The shape of data and labels shoould match the given below numbers."
      ]
    },
    {
      "cell_type": "code",
      "metadata": {
        "id": "vpEWEnjFfnFR",
        "colab_type": "code",
        "outputId": "9a77219b-a332-4a1a-9c41-ee86a392b538",
        "colab": {
          "base_uri": "https://localhost:8080/",
          "height": 51
        }
      },
      "source": [
        "print('Shape of data tensor:', data.shape)\n",
        "print('Shape of label tensor:', labels.shape)"
      ],
      "execution_count": 0,
      "outputs": [
        {
          "output_type": "stream",
          "text": [
            "Shape of data tensor: (49972, 20, 20)\n",
            "Shape of label tensor: (49972, 4)\n"
          ],
          "name": "stdout"
        }
      ]
    },
    {
      "cell_type": "markdown",
      "metadata": {
        "id": "sDOxHdR3frDu",
        "colab_type": "text"
      },
      "source": [
        "### Shuffle the data"
      ]
    },
    {
      "cell_type": "code",
      "metadata": {
        "id": "-Ra-yYTvfzRt",
        "colab_type": "code",
        "colab": {}
      },
      "source": [
        "## get numbers upto no.of articles\n",
        "indices = np.arange(data.shape[0])\n",
        "## shuffle the numbers\n",
        "np.random.shuffle(indices)"
      ],
      "execution_count": 0,
      "outputs": []
    },
    {
      "cell_type": "code",
      "metadata": {
        "id": "LKnSqwIFf3Iy",
        "colab_type": "code",
        "colab": {}
      },
      "source": [
        "## shuffle the data\n",
        "data = data[indices]\n",
        "data_heading = data_heading[indices]\n",
        "## shuffle the labels according to data\n",
        "labels = labels[indices]"
      ],
      "execution_count": 0,
      "outputs": []
    },
    {
      "cell_type": "markdown",
      "metadata": {
        "id": "JcOFVfPBf9kA",
        "colab_type": "text"
      },
      "source": [
        "### Split into train and validation sets. Split the train set 80:20 ratio to get the train and validation sets"
      ]
    },
    {
      "cell_type": "code",
      "metadata": {
        "id": "2neh9Wcof8iR",
        "colab_type": "code",
        "colab": {}
      },
      "source": [
        "## no.of validation samples = 0.2 of original size\n",
        "nb_validation_samples = int(VALIDATION_SPLIT * data.shape[0])"
      ],
      "execution_count": 0,
      "outputs": []
    },
    {
      "cell_type": "code",
      "metadata": {
        "id": "o5u3PTz3gEV-",
        "colab_type": "code",
        "colab": {}
      },
      "source": [
        "## for train and validation samples\n",
        "x_train = data[:-nb_validation_samples]\n",
        "x_heading_train = data_heading[:-nb_validation_samples]\n",
        "y_train = labels[:-nb_validation_samples]\n",
        "x_val = data[-nb_validation_samples:]\n",
        "x_heading_val = data_heading[-nb_validation_samples:]\n",
        "y_val = labels[-nb_validation_samples:]"
      ],
      "execution_count": 0,
      "outputs": []
    },
    {
      "cell_type": "markdown",
      "metadata": {
        "id": "UTyvoHrsgMDw",
        "colab_type": "text"
      },
      "source": [
        "### Check 5:\n",
        "\n",
        "The shape of x_train, x_val, y_train and y_val should match the below numbers."
      ]
    },
    {
      "cell_type": "code",
      "metadata": {
        "id": "KLEbiw2Yghe2",
        "colab_type": "code",
        "outputId": "e2390c42-fcda-4165-ae0e-52bd515d8b1d",
        "colab": {
          "base_uri": "https://localhost:8080/",
          "height": 85
        }
      },
      "source": [
        "print(x_train.shape)\n",
        "print(y_train.shape)\n",
        "\n",
        "print(x_val.shape)\n",
        "print(y_val.shape)"
      ],
      "execution_count": 0,
      "outputs": [
        {
          "output_type": "stream",
          "text": [
            "(39978, 20, 20)\n",
            "(39978, 4)\n",
            "(9994, 20, 20)\n",
            "(9994, 4)\n"
          ],
          "name": "stdout"
        }
      ]
    },
    {
      "cell_type": "markdown",
      "metadata": {
        "id": "yNnoBtArhJ1E",
        "colab_type": "text"
      },
      "source": [
        "### Create embedding matrix with the glove embeddings\n",
        "\n",
        "\n",
        "Run the below code to create embedding_matrix which has all the words and their glove embedding if present in glove word list."
      ]
    },
    {
      "cell_type": "code",
      "metadata": {
        "id": "eKqn2IL2ZF8v",
        "colab_type": "code",
        "outputId": "076e80d8-5a98-434e-eb51-a5f02f532c7c",
        "colab": {
          "base_uri": "https://localhost:8080/",
          "height": 34
        }
      },
      "source": [
        "# load the whole embedding into memory\n",
        "embeddings_index = dict()\n",
        "f = open('./glove.6B.100d.txt')\n",
        "for line in f:\n",
        "\tvalues = line.split()\n",
        "\tword = values[0]\n",
        "\tcoefs = np.asarray(values[1:], dtype='float32')\n",
        "\tembeddings_index[word] = coefs\n",
        "f.close()\n",
        "print('Loaded %s word vectors.' % len(embeddings_index))\n",
        "\n",
        "# create a weight matrix for words in training docs\n",
        "embedding_matrix = np.zeros((vocab_size, 100))\n",
        "\n",
        "\n",
        "for word, i in t.word_index.items():\n",
        "\tembedding_vector = embeddings_index.get(word)\n",
        "\tif embedding_vector is not None:\n",
        "\t\tembedding_matrix[i] = embedding_vector"
      ],
      "execution_count": 0,
      "outputs": [
        {
          "output_type": "stream",
          "text": [
            "Loaded 400000 word vectors.\n"
          ],
          "name": "stdout"
        }
      ]
    },
    {
      "cell_type": "markdown",
      "metadata": {
        "id": "LRi4o3ZspDFU",
        "colab_type": "text"
      },
      "source": [
        "## Try different sequential models "
      ]
    },
    {
      "cell_type": "markdown",
      "metadata": {
        "id": "zSZDnPWkw2ZZ",
        "colab_type": "text"
      },
      "source": [
        "### Import layers from Keras to build the model"
      ]
    },
    {
      "cell_type": "code",
      "metadata": {
        "id": "5AgwQsfMrzAQ",
        "colab_type": "code",
        "colab": {}
      },
      "source": [
        "from keras.models import Sequential\n",
        "from keras.layers import Dense, LSTM, TimeDistributed, Activation\n",
        "from keras.layers import Flatten, Permute, merge, Input\n",
        "from keras.layers import Embedding\n",
        "from keras.models import Model\n",
        "from keras.layers import Input, Dense, multiply, concatenate, Dropout"
      ],
      "execution_count": 0,
      "outputs": []
    },
    {
      "cell_type": "code",
      "metadata": {
        "id": "G_8QXh-rmPFq",
        "colab_type": "code",
        "colab": {}
      },
      "source": [
        "MAX_SENT_LENGTH = 20\n",
        "MAX_SENTS = 20\n",
        "hidden_size = 100\n",
        "\n",
        "\n",
        "from keras.layers import Embedding, Input, Dense, LSTM, GRU, Bidirectional, TimeDistributed\n",
        "\n",
        "sentence_input = Input(shape=(MAX_SENT_LENGTH,), dtype='int32')\n",
        "print(sentence_input)\n",
        "embedded_sequences = Embedding(output_dim=hidden_size, input_dim=vocab_size, input_length=(MAX_SENT_LENGTH,), weights=[embedding_matrix])(sentence_input)\n",
        "\n",
        "l_lstm = Bidirectional(LSTM(100, return_sequences=True))(embedded_sequences)\n",
        "l_dense = TimeDistributed(Dense(100))(l_lstm)\n",
        "l_dense = Flatten()(l_dense)\n",
        "sentEncoder = Model(sentence_input, l_dense)\n",
        "\n",
        "body_input = Input(shape=(MAX_SENTS,MAX_SENT_LENGTH,), dtype='int32')\n",
        "print(body_input)\n",
        "body_encoder = TimeDistributed(sentEncoder)(body_input)\n",
        "print(body_encoder)\n",
        "l_lstm_sent = Bidirectional(LSTM(100, return_sequences=True))(body_encoder)\n",
        "l_dense_sent = TimeDistributed(Dense(100))(l_lstm_sent)\n",
        "l_dense_sent = Flatten()(l_dense_sent)\n",
        "\n",
        "\n",
        "heading_input = Input(shape=(MAX_SENTS_HEADING, MAX_SENT_LENGTH,), dtype='int32')\n",
        "heading_embedded_sequences = Embedding(output_dim=hidden_size, input_dim=vocab_size, \\\n",
        "                                       input_length=(MAX_SENTS_HEADING, MAX_SENT_LENGTH,), weights=[embedding_matrix])(heading_input)\n",
        "h_dense = Dense(100, activation='relu')(heading_embedded_sequences)\n",
        "h_flatten = Flatten()(h_dense)\n",
        "article_output = concatenate([l_dense_sent, h_flatten], name='concatenate_heading')\n",
        "\n",
        "news_vector = Dense(100, activation='relu')(article_output)\n",
        "preds = Dense(4, activation='softmax')(news_vector)\n",
        "model = Model([body_input, heading_input], [preds])"
      ],
      "execution_count": 0,
      "outputs": []
    },
    {
      "cell_type": "code",
      "metadata": {
        "id": "MlduHU2CovxC",
        "colab_type": "code",
        "outputId": "5081eeb5-344e-43ba-ea6f-7de0e7ec6bdb",
        "colab": {
          "base_uri": "https://localhost:8080/",
          "height": 408
        }
      },
      "source": [
        "model.compile(loss='categorical_crossentropy',\n",
        "              optimizer='rmsprop',\n",
        "              metrics=['acc'])\n",
        "\n",
        "print(\"model fitting - Hierachical LSTM network\")\n",
        "model.fit([x_train, x_heading_train], [y_train], validation_data=([x_val, x_heading_val], [y_val]), epochs=10, batch_size=50)"
      ],
      "execution_count": 0,
      "outputs": [
        {
          "output_type": "stream",
          "text": [
            "model fitting - Hierachical LSTM network\n",
            "Train on 39978 samples, validate on 9994 samples\n",
            "Epoch 1/10\n",
            "39978/39978 [==============================] - 224s 6ms/step - loss: 0.2460 - acc: 0.9077 - val_loss: 0.2798 - val_acc: 0.8995\n",
            "Epoch 2/10\n",
            "39978/39978 [==============================] - 218s 5ms/step - loss: 0.1789 - acc: 0.9341 - val_loss: 0.2698 - val_acc: 0.9126\n",
            "Epoch 3/10\n",
            "39978/39978 [==============================] - 220s 6ms/step - loss: 0.1369 - acc: 0.9498 - val_loss: 0.2541 - val_acc: 0.9133\n",
            "Epoch 4/10\n",
            "39978/39978 [==============================] - 218s 5ms/step - loss: 0.1101 - acc: 0.9612 - val_loss: 0.2216 - val_acc: 0.9228\n",
            "Epoch 5/10\n",
            "39978/39978 [==============================] - 219s 5ms/step - loss: 0.0921 - acc: 0.9671 - val_loss: 0.2147 - val_acc: 0.9340\n",
            "Epoch 6/10\n",
            "39978/39978 [==============================] - 218s 5ms/step - loss: 0.0748 - acc: 0.9728 - val_loss: 0.2207 - val_acc: 0.9357\n",
            "Epoch 7/10\n",
            "39978/39978 [==============================] - 219s 5ms/step - loss: 0.0660 - acc: 0.9780 - val_loss: 0.2572 - val_acc: 0.9324\n",
            "Epoch 8/10\n",
            "39978/39978 [==============================] - 218s 5ms/step - loss: 0.0566 - acc: 0.9810 - val_loss: 0.2704 - val_acc: 0.9401\n",
            "Epoch 9/10\n",
            "39978/39978 [==============================] - 218s 5ms/step - loss: 0.0492 - acc: 0.9835 - val_loss: 0.2165 - val_acc: 0.9450\n",
            "Epoch 10/10\n",
            "39978/39978 [==============================] - 219s 5ms/step - loss: 0.0448 - acc: 0.9858 - val_loss: 0.2343 - val_acc: 0.9487\n"
          ],
          "name": "stdout"
        },
        {
          "output_type": "execute_result",
          "data": {
            "text/plain": [
              "<keras.callbacks.History at 0x7ff1d6055c18>"
            ]
          },
          "metadata": {
            "tags": []
          },
          "execution_count": 105
        }
      ]
    },
    {
      "cell_type": "markdown",
      "metadata": {
        "id": "-sdsupvauOsm",
        "colab_type": "text"
      },
      "source": [
        "### Adding Attention layer"
      ]
    },
    {
      "cell_type": "code",
      "metadata": {
        "id": "VSj8xcdQuQEK",
        "colab_type": "code",
        "colab": {}
      },
      "source": [
        "# def Attention(inputs):\n",
        "#     input_dim = int(inputs.shape[2])\n",
        "#     v = Permute((2, 1))(inputs)\n",
        "#     v = Dense(20, activation='softmax')(v)\n",
        "#     attention_probs = Permute((2, 1), name='attention_porbs')(v)\n",
        "#     attention_output = multiply([inputs, attention_probs], name='mul_attention')\n",
        "#     return attention_output\n",
        "\n",
        "from keras import backend as K\n",
        "from keras.engine.topology import Layer, InputSpec\n",
        "from keras import initializers\n",
        "\n",
        "class AttLayer(Layer):\n",
        "    def __init__(self, attention_dim):\n",
        "        self.init = initializers.get('normal')\n",
        "        self.supports_masking = True\n",
        "        self.attention_dim = attention_dim\n",
        "        super(AttLayer, self).__init__()\n",
        "\n",
        "    def build(self, input_shape):\n",
        "        assert len(input_shape) == 3\n",
        "        self.W = K.variable(self.init((input_shape[-1], self.attention_dim)))\n",
        "        self.b = K.variable(self.init((self.attention_dim, )))\n",
        "        self.u = K.variable(self.init((self.attention_dim, 1)))\n",
        "        self.trainable_weights = [self.W, self.b, self.u]\n",
        "        super(AttLayer, self).build(input_shape)\n",
        "\n",
        "    def compute_mask(self, inputs, mask=None):\n",
        "        return mask\n",
        "\n",
        "    def call(self, x, mask=None):\n",
        "        # size of x :[batch_size, sel_len, attention_dim]\n",
        "        # size of u :[batch_size, attention_dim]\n",
        "        # uit = tanh(xW+b)\n",
        "        uit = K.tanh(K.bias_add(K.dot(x, self.W), self.b))\n",
        "        ait = K.dot(uit, self.u)\n",
        "        ait = K.squeeze(ait, -1)\n",
        "\n",
        "        ait = K.exp(ait)\n",
        "\n",
        "        if mask is not None:\n",
        "            # Cast the mask to floatX to avoid float64 upcasting in theano\n",
        "            ait *= K.cast(mask, K.floatx())\n",
        "        ait /= K.cast(K.sum(ait, axis=1, keepdims=True) + K.epsilon(), K.floatx())\n",
        "        ait = K.expand_dims(ait)\n",
        "        weighted_input = x * ait\n",
        "        output = K.sum(weighted_input, axis=1)\n",
        "\n",
        "        return output\n",
        "\n",
        "    def compute_output_shape(self, input_shape):\n",
        "        return (input_shape[0], input_shape[-1])"
      ],
      "execution_count": 0,
      "outputs": []
    },
    {
      "cell_type": "markdown",
      "metadata": {
        "id": "dowVc66HuxFD",
        "colab_type": "text"
      },
      "source": [
        "#### Building Model with Attention"
      ]
    },
    {
      "cell_type": "markdown",
      "metadata": {
        "id": "FAuclXfu5U1r",
        "colab_type": "text"
      },
      "source": [
        "### Hierarchical Attention Network"
      ]
    },
    {
      "cell_type": "code",
      "metadata": {
        "id": "kxRpX1QV8Jl6",
        "colab_type": "code",
        "colab": {}
      },
      "source": [
        "MAX_SENT_LENGTH = 20\n",
        "MAX_SENTS = 20\n",
        "hidden_size = 100\n",
        "\n",
        "\n",
        "from keras.layers import Embedding, Input, Dense, LSTM, GRU, Bidirectional, TimeDistributed\n",
        "\n",
        "sentence_input = Input(shape=(MAX_SENT_LENGTH,), dtype='int32')\n",
        "embedded_sequences = Embedding(output_dim=hidden_size, input_dim=vocab_size, input_length=(MAX_SENT_LENGTH,), weights=[embedding_matrix])(sentence_input)\n",
        "\n",
        "l_lstm = Bidirectional(LSTM(100, return_sequences=True))(embedded_sequences)\n",
        "l_dense = TimeDistributed(Dense(100))(l_lstm)\n",
        "l_att = AttLayer(100)(l_dense)\n",
        "sentEncoder = Model(sentence_input, l_att)\n",
        "\n",
        "body_input = Input(shape=(MAX_SENTS,MAX_SENT_LENGTH), dtype='int32')\n",
        "body_encoder = TimeDistributed(sentEncoder)(body_input)\n",
        "l_lstm_sent = Bidirectional(LSTM(100, return_sequences=True))(body_encoder)\n",
        "l_dense_sent = TimeDistributed(Dense(100))(l_lstm_sent)\n",
        "l_att_sent = AttLayer(100)(l_dense_sent)\n",
        "\n",
        "\n",
        "heading_input = Input(shape=(MAX_SENTS_HEADING, MAX_SENT_LENGTH,), dtype='int32')\n",
        "heading_embedded_sequences = Embedding(output_dim=hidden_size, input_dim=vocab_size, input_length=(MAX_SENTS_HEADING, MAX_SENT_LENGTH,), weights=[embedding_matrix])(heading_input)\n",
        "h_dense = Dense(10, activation='relu')(heading_embedded_sequences)\n",
        "h_flatten = Flatten()(h_dense)\n",
        "article_output = concatenate([l_att_sent, h_flatten], name='concatenate_heading')\n",
        "\n",
        "news_vector = Dense(100, activation='relu')(article_output)\n",
        "preds = Dense(4, activation='softmax')(news_vector)\n",
        "model = Model([body_input, heading_input], [preds])"
      ],
      "execution_count": 0,
      "outputs": []
    },
    {
      "cell_type": "code",
      "metadata": {
        "id": "HCUmb0mohnHu",
        "colab_type": "code",
        "outputId": "df5108af-eddd-4b03-e69b-eb8373085dd5",
        "colab": {
          "base_uri": "https://localhost:8080/",
          "height": 408
        }
      },
      "source": [
        "model.compile(loss='categorical_crossentropy',\n",
        "              optimizer='rmsprop',\n",
        "              metrics=['acc'])\n",
        "\n",
        "print(\"model fitting - Hierachical attention network\")\n",
        "model.fit([x_train, x_heading_train], [y_train], validation_data=([x_val, x_heading_val], [y_val]), epochs=10, batch_size=50)"
      ],
      "execution_count": 0,
      "outputs": [
        {
          "output_type": "stream",
          "text": [
            "model fitting - Hierachical attention network\n",
            "Train on 39978 samples, validate on 9994 samples\n",
            "Epoch 1/10\n",
            "39978/39978 [==============================] - 218s 5ms/step - loss: 0.6488 - acc: 0.7604 - val_loss: 0.4787 - val_acc: 0.8147\n",
            "Epoch 2/10\n",
            "39978/39978 [==============================] - 212s 5ms/step - loss: 0.3954 - acc: 0.8478 - val_loss: 0.4117 - val_acc: 0.8379\n",
            "Epoch 3/10\n",
            "39978/39978 [==============================] - 211s 5ms/step - loss: 0.2775 - acc: 0.8958 - val_loss: 0.2700 - val_acc: 0.8991\n",
            "Epoch 4/10\n",
            "39978/39978 [==============================] - 212s 5ms/step - loss: 0.2019 - acc: 0.9251 - val_loss: 0.2321 - val_acc: 0.9144\n",
            "Epoch 5/10\n",
            "39978/39978 [==============================] - 212s 5ms/step - loss: 0.1551 - acc: 0.9422 - val_loss: 0.2256 - val_acc: 0.9218\n",
            "Epoch 6/10\n",
            "39978/39978 [==============================] - 212s 5ms/step - loss: 0.1240 - acc: 0.9553 - val_loss: 0.1994 - val_acc: 0.9303\n",
            "Epoch 7/10\n",
            "39978/39978 [==============================] - 212s 5ms/step - loss: 0.1005 - acc: 0.9644 - val_loss: 0.2031 - val_acc: 0.9324\n",
            "Epoch 8/10\n",
            "39978/39978 [==============================] - 211s 5ms/step - loss: 0.0842 - acc: 0.9702 - val_loss: 0.1760 - val_acc: 0.9427\n",
            "Epoch 9/10\n",
            "39978/39978 [==============================] - 211s 5ms/step - loss: 0.0703 - acc: 0.9751 - val_loss: 0.1731 - val_acc: 0.9483\n",
            "Epoch 10/10\n",
            "39978/39978 [==============================] - 211s 5ms/step - loss: 0.0591 - acc: 0.9793 - val_loss: 0.1738 - val_acc: 0.9512\n"
          ],
          "name": "stdout"
        },
        {
          "output_type": "execute_result",
          "data": {
            "text/plain": [
              "<keras.callbacks.History at 0x7ff1d6055cc0>"
            ]
          },
          "metadata": {
            "tags": []
          },
          "execution_count": 108
        }
      ]
    },
    {
      "cell_type": "code",
      "metadata": {
        "id": "CM3yCmjQoCM3",
        "colab_type": "code",
        "colab": {}
      },
      "source": [
        ""
      ],
      "execution_count": 0,
      "outputs": []
    }
  ]
}